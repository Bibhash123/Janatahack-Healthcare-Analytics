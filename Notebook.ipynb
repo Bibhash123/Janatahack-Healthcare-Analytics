{
 "cells": [
  {
   "cell_type": "code",
   "execution_count": 1,
   "metadata": {},
   "outputs": [],
   "source": [
    "import numpy as np\n",
    "import pandas as pd\n",
    "import matplotlib.pyplot as plt\n",
    "import seaborn as sns"
   ]
  },
  {
   "cell_type": "code",
   "execution_count": 2,
   "metadata": {},
   "outputs": [],
   "source": [
    "# read files\n",
    "health_camp_details = pd.read_csv(\"./Train_2/Train/Health_Camp_Detail.csv\")\n",
    "patient_profile = pd.read_csv(\"./Train_2/Train/Patient_Profile.csv\")\n",
    "first_health_camp = pd.read_csv(\"./Train_2/Train/First_Health_Camp_Attended.csv\")\n",
    "second_health_camp = pd.read_csv(\"./Train_2/Train/Second_Health_Camp_Attended.csv\")\n",
    "third_health_camp = pd.read_csv(\"./Train_2/Train/Third_Health_Camp_Attended.csv\")\n",
    "\n",
    "train = pd.read_csv(\"./Train_2/Train/Train.csv\")"
   ]
  },
  {
   "cell_type": "code",
   "execution_count": 3,
   "metadata": {},
   "outputs": [],
   "source": [
    "test = pd.read_csv(\"./test_l0Auv8Q.csv\")"
   ]
  },
  {
   "cell_type": "markdown",
   "metadata": {},
   "source": [
    "# EDA"
   ]
  },
  {
   "cell_type": "code",
   "execution_count": 4,
   "metadata": {},
   "outputs": [
    {
     "data": {
      "text/html": [
       "<div>\n",
       "<style scoped>\n",
       "    .dataframe tbody tr th:only-of-type {\n",
       "        vertical-align: middle;\n",
       "    }\n",
       "\n",
       "    .dataframe tbody tr th {\n",
       "        vertical-align: top;\n",
       "    }\n",
       "\n",
       "    .dataframe thead th {\n",
       "        text-align: right;\n",
       "    }\n",
       "</style>\n",
       "<table border=\"1\" class=\"dataframe\">\n",
       "  <thead>\n",
       "    <tr style=\"text-align: right;\">\n",
       "      <th></th>\n",
       "      <th>Patient_ID</th>\n",
       "      <th>Health_Camp_ID</th>\n",
       "      <th>Registration_Date</th>\n",
       "      <th>Var1</th>\n",
       "      <th>Var2</th>\n",
       "      <th>Var3</th>\n",
       "      <th>Var4</th>\n",
       "      <th>Var5</th>\n",
       "    </tr>\n",
       "  </thead>\n",
       "  <tbody>\n",
       "    <tr>\n",
       "      <th>0</th>\n",
       "      <td>489652</td>\n",
       "      <td>6578</td>\n",
       "      <td>10-Sep-05</td>\n",
       "      <td>4</td>\n",
       "      <td>0</td>\n",
       "      <td>0</td>\n",
       "      <td>0</td>\n",
       "      <td>2</td>\n",
       "    </tr>\n",
       "    <tr>\n",
       "      <th>1</th>\n",
       "      <td>507246</td>\n",
       "      <td>6578</td>\n",
       "      <td>18-Aug-05</td>\n",
       "      <td>45</td>\n",
       "      <td>5</td>\n",
       "      <td>0</td>\n",
       "      <td>0</td>\n",
       "      <td>7</td>\n",
       "    </tr>\n",
       "    <tr>\n",
       "      <th>2</th>\n",
       "      <td>523729</td>\n",
       "      <td>6534</td>\n",
       "      <td>29-Apr-06</td>\n",
       "      <td>0</td>\n",
       "      <td>0</td>\n",
       "      <td>0</td>\n",
       "      <td>0</td>\n",
       "      <td>0</td>\n",
       "    </tr>\n",
       "    <tr>\n",
       "      <th>3</th>\n",
       "      <td>524931</td>\n",
       "      <td>6535</td>\n",
       "      <td>07-Feb-04</td>\n",
       "      <td>0</td>\n",
       "      <td>0</td>\n",
       "      <td>0</td>\n",
       "      <td>0</td>\n",
       "      <td>0</td>\n",
       "    </tr>\n",
       "    <tr>\n",
       "      <th>4</th>\n",
       "      <td>521364</td>\n",
       "      <td>6529</td>\n",
       "      <td>28-Feb-06</td>\n",
       "      <td>15</td>\n",
       "      <td>1</td>\n",
       "      <td>0</td>\n",
       "      <td>0</td>\n",
       "      <td>7</td>\n",
       "    </tr>\n",
       "  </tbody>\n",
       "</table>\n",
       "</div>"
      ],
      "text/plain": [
       "   Patient_ID  Health_Camp_ID Registration_Date  Var1  Var2  Var3  Var4  Var5\n",
       "0      489652            6578         10-Sep-05     4     0     0     0     2\n",
       "1      507246            6578         18-Aug-05    45     5     0     0     7\n",
       "2      523729            6534         29-Apr-06     0     0     0     0     0\n",
       "3      524931            6535         07-Feb-04     0     0     0     0     0\n",
       "4      521364            6529         28-Feb-06    15     1     0     0     7"
      ]
     },
     "execution_count": 4,
     "metadata": {},
     "output_type": "execute_result"
    }
   ],
   "source": [
    "train.head()"
   ]
  },
  {
   "cell_type": "code",
   "execution_count": 5,
   "metadata": {},
   "outputs": [
    {
     "data": {
      "text/html": [
       "<div>\n",
       "<style scoped>\n",
       "    .dataframe tbody tr th:only-of-type {\n",
       "        vertical-align: middle;\n",
       "    }\n",
       "\n",
       "    .dataframe tbody tr th {\n",
       "        vertical-align: top;\n",
       "    }\n",
       "\n",
       "    .dataframe thead th {\n",
       "        text-align: right;\n",
       "    }\n",
       "</style>\n",
       "<table border=\"1\" class=\"dataframe\">\n",
       "  <thead>\n",
       "    <tr style=\"text-align: right;\">\n",
       "      <th></th>\n",
       "      <th>Patient_ID</th>\n",
       "      <th>Health_Camp_ID</th>\n",
       "      <th>Registration_Date</th>\n",
       "      <th>Var1</th>\n",
       "      <th>Var2</th>\n",
       "      <th>Var3</th>\n",
       "      <th>Var4</th>\n",
       "      <th>Var5</th>\n",
       "    </tr>\n",
       "  </thead>\n",
       "  <tbody>\n",
       "    <tr>\n",
       "      <th>0</th>\n",
       "      <td>505701</td>\n",
       "      <td>6548</td>\n",
       "      <td>21-May-06</td>\n",
       "      <td>1</td>\n",
       "      <td>0</td>\n",
       "      <td>0</td>\n",
       "      <td>0</td>\n",
       "      <td>2</td>\n",
       "    </tr>\n",
       "    <tr>\n",
       "      <th>1</th>\n",
       "      <td>500633</td>\n",
       "      <td>6584</td>\n",
       "      <td>02-Jun-06</td>\n",
       "      <td>0</td>\n",
       "      <td>0</td>\n",
       "      <td>0</td>\n",
       "      <td>0</td>\n",
       "      <td>0</td>\n",
       "    </tr>\n",
       "    <tr>\n",
       "      <th>2</th>\n",
       "      <td>506945</td>\n",
       "      <td>6582</td>\n",
       "      <td>10-Aug-06</td>\n",
       "      <td>0</td>\n",
       "      <td>0</td>\n",
       "      <td>0</td>\n",
       "      <td>0</td>\n",
       "      <td>0</td>\n",
       "    </tr>\n",
       "    <tr>\n",
       "      <th>3</th>\n",
       "      <td>497447</td>\n",
       "      <td>6551</td>\n",
       "      <td>27-Aug-06</td>\n",
       "      <td>0</td>\n",
       "      <td>0</td>\n",
       "      <td>0</td>\n",
       "      <td>0</td>\n",
       "      <td>0</td>\n",
       "    </tr>\n",
       "    <tr>\n",
       "      <th>4</th>\n",
       "      <td>496446</td>\n",
       "      <td>6533</td>\n",
       "      <td>19-Sep-06</td>\n",
       "      <td>0</td>\n",
       "      <td>0</td>\n",
       "      <td>0</td>\n",
       "      <td>0</td>\n",
       "      <td>0</td>\n",
       "    </tr>\n",
       "  </tbody>\n",
       "</table>\n",
       "</div>"
      ],
      "text/plain": [
       "   Patient_ID  Health_Camp_ID Registration_Date  Var1  Var2  Var3  Var4  Var5\n",
       "0      505701            6548         21-May-06     1     0     0     0     2\n",
       "1      500633            6584         02-Jun-06     0     0     0     0     0\n",
       "2      506945            6582         10-Aug-06     0     0     0     0     0\n",
       "3      497447            6551         27-Aug-06     0     0     0     0     0\n",
       "4      496446            6533         19-Sep-06     0     0     0     0     0"
      ]
     },
     "execution_count": 5,
     "metadata": {},
     "output_type": "execute_result"
    }
   ],
   "source": [
    "test.head()"
   ]
  },
  {
   "cell_type": "code",
   "execution_count": 6,
   "metadata": {},
   "outputs": [
    {
     "data": {
      "text/html": [
       "<div>\n",
       "<style scoped>\n",
       "    .dataframe tbody tr th:only-of-type {\n",
       "        vertical-align: middle;\n",
       "    }\n",
       "\n",
       "    .dataframe tbody tr th {\n",
       "        vertical-align: top;\n",
       "    }\n",
       "\n",
       "    .dataframe thead th {\n",
       "        text-align: right;\n",
       "    }\n",
       "</style>\n",
       "<table border=\"1\" class=\"dataframe\">\n",
       "  <thead>\n",
       "    <tr style=\"text-align: right;\">\n",
       "      <th></th>\n",
       "      <th>Health_Camp_ID</th>\n",
       "      <th>Camp_Start_Date</th>\n",
       "      <th>Camp_End_Date</th>\n",
       "      <th>Category1</th>\n",
       "      <th>Category2</th>\n",
       "      <th>Category3</th>\n",
       "    </tr>\n",
       "  </thead>\n",
       "  <tbody>\n",
       "    <tr>\n",
       "      <th>0</th>\n",
       "      <td>6560</td>\n",
       "      <td>16-Aug-03</td>\n",
       "      <td>20-Aug-03</td>\n",
       "      <td>First</td>\n",
       "      <td>B</td>\n",
       "      <td>2</td>\n",
       "    </tr>\n",
       "    <tr>\n",
       "      <th>1</th>\n",
       "      <td>6530</td>\n",
       "      <td>16-Aug-03</td>\n",
       "      <td>28-Oct-03</td>\n",
       "      <td>First</td>\n",
       "      <td>C</td>\n",
       "      <td>2</td>\n",
       "    </tr>\n",
       "    <tr>\n",
       "      <th>2</th>\n",
       "      <td>6544</td>\n",
       "      <td>03-Nov-03</td>\n",
       "      <td>15-Nov-03</td>\n",
       "      <td>First</td>\n",
       "      <td>F</td>\n",
       "      <td>1</td>\n",
       "    </tr>\n",
       "    <tr>\n",
       "      <th>3</th>\n",
       "      <td>6585</td>\n",
       "      <td>22-Nov-03</td>\n",
       "      <td>05-Dec-03</td>\n",
       "      <td>First</td>\n",
       "      <td>E</td>\n",
       "      <td>2</td>\n",
       "    </tr>\n",
       "    <tr>\n",
       "      <th>4</th>\n",
       "      <td>6561</td>\n",
       "      <td>30-Nov-03</td>\n",
       "      <td>18-Dec-03</td>\n",
       "      <td>First</td>\n",
       "      <td>E</td>\n",
       "      <td>1</td>\n",
       "    </tr>\n",
       "  </tbody>\n",
       "</table>\n",
       "</div>"
      ],
      "text/plain": [
       "   Health_Camp_ID Camp_Start_Date Camp_End_Date Category1 Category2  Category3\n",
       "0            6560       16-Aug-03     20-Aug-03     First         B          2\n",
       "1            6530       16-Aug-03     28-Oct-03     First         C          2\n",
       "2            6544       03-Nov-03     15-Nov-03     First         F          1\n",
       "3            6585       22-Nov-03     05-Dec-03     First         E          2\n",
       "4            6561       30-Nov-03     18-Dec-03     First         E          1"
      ]
     },
     "execution_count": 6,
     "metadata": {},
     "output_type": "execute_result"
    }
   ],
   "source": [
    "health_camp_details.head()"
   ]
  },
  {
   "cell_type": "code",
   "execution_count": 7,
   "metadata": {
    "scrolled": true
   },
   "outputs": [
    {
     "data": {
      "text/html": [
       "<div>\n",
       "<style scoped>\n",
       "    .dataframe tbody tr th:only-of-type {\n",
       "        vertical-align: middle;\n",
       "    }\n",
       "\n",
       "    .dataframe tbody tr th {\n",
       "        vertical-align: top;\n",
       "    }\n",
       "\n",
       "    .dataframe thead th {\n",
       "        text-align: right;\n",
       "    }\n",
       "</style>\n",
       "<table border=\"1\" class=\"dataframe\">\n",
       "  <thead>\n",
       "    <tr style=\"text-align: right;\">\n",
       "      <th></th>\n",
       "      <th>Patient_ID</th>\n",
       "      <th>Online_Follower</th>\n",
       "      <th>LinkedIn_Shared</th>\n",
       "      <th>Twitter_Shared</th>\n",
       "      <th>Facebook_Shared</th>\n",
       "      <th>Income</th>\n",
       "      <th>Education_Score</th>\n",
       "      <th>Age</th>\n",
       "      <th>First_Interaction</th>\n",
       "      <th>City_Type</th>\n",
       "      <th>Employer_Category</th>\n",
       "    </tr>\n",
       "  </thead>\n",
       "  <tbody>\n",
       "    <tr>\n",
       "      <th>0</th>\n",
       "      <td>516956</td>\n",
       "      <td>0</td>\n",
       "      <td>0</td>\n",
       "      <td>0</td>\n",
       "      <td>0</td>\n",
       "      <td>1</td>\n",
       "      <td>90</td>\n",
       "      <td>39</td>\n",
       "      <td>18-Jun-03</td>\n",
       "      <td>NaN</td>\n",
       "      <td>Software Industry</td>\n",
       "    </tr>\n",
       "    <tr>\n",
       "      <th>1</th>\n",
       "      <td>507733</td>\n",
       "      <td>0</td>\n",
       "      <td>0</td>\n",
       "      <td>0</td>\n",
       "      <td>0</td>\n",
       "      <td>1</td>\n",
       "      <td>None</td>\n",
       "      <td>40</td>\n",
       "      <td>20-Jul-03</td>\n",
       "      <td>H</td>\n",
       "      <td>Software Industry</td>\n",
       "    </tr>\n",
       "    <tr>\n",
       "      <th>2</th>\n",
       "      <td>508307</td>\n",
       "      <td>0</td>\n",
       "      <td>0</td>\n",
       "      <td>0</td>\n",
       "      <td>0</td>\n",
       "      <td>3</td>\n",
       "      <td>87</td>\n",
       "      <td>46</td>\n",
       "      <td>02-Nov-02</td>\n",
       "      <td>D</td>\n",
       "      <td>BFSI</td>\n",
       "    </tr>\n",
       "    <tr>\n",
       "      <th>3</th>\n",
       "      <td>512612</td>\n",
       "      <td>0</td>\n",
       "      <td>0</td>\n",
       "      <td>0</td>\n",
       "      <td>0</td>\n",
       "      <td>1</td>\n",
       "      <td>75</td>\n",
       "      <td>47</td>\n",
       "      <td>02-Nov-02</td>\n",
       "      <td>D</td>\n",
       "      <td>Education</td>\n",
       "    </tr>\n",
       "    <tr>\n",
       "      <th>4</th>\n",
       "      <td>521075</td>\n",
       "      <td>0</td>\n",
       "      <td>0</td>\n",
       "      <td>0</td>\n",
       "      <td>0</td>\n",
       "      <td>3</td>\n",
       "      <td>None</td>\n",
       "      <td>80</td>\n",
       "      <td>24-Nov-02</td>\n",
       "      <td>H</td>\n",
       "      <td>Others</td>\n",
       "    </tr>\n",
       "  </tbody>\n",
       "</table>\n",
       "</div>"
      ],
      "text/plain": [
       "   Patient_ID  Online_Follower  LinkedIn_Shared  Twitter_Shared  \\\n",
       "0      516956                0                0               0   \n",
       "1      507733                0                0               0   \n",
       "2      508307                0                0               0   \n",
       "3      512612                0                0               0   \n",
       "4      521075                0                0               0   \n",
       "\n",
       "   Facebook_Shared Income Education_Score Age First_Interaction City_Type  \\\n",
       "0                0      1              90  39         18-Jun-03       NaN   \n",
       "1                0      1            None  40         20-Jul-03         H   \n",
       "2                0      3              87  46         02-Nov-02         D   \n",
       "3                0      1              75  47         02-Nov-02         D   \n",
       "4                0      3            None  80         24-Nov-02         H   \n",
       "\n",
       "   Employer_Category  \n",
       "0  Software Industry  \n",
       "1  Software Industry  \n",
       "2               BFSI  \n",
       "3          Education  \n",
       "4             Others  "
      ]
     },
     "execution_count": 7,
     "metadata": {},
     "output_type": "execute_result"
    }
   ],
   "source": [
    "patient_profile.head()"
   ]
  },
  {
   "cell_type": "code",
   "execution_count": 8,
   "metadata": {},
   "outputs": [
    {
     "name": "stdout",
     "output_type": "stream",
     "text": [
      "37633\n",
      "29828\n",
      "15324\n"
     ]
    }
   ],
   "source": [
    "print(patient_profile[\"Patient_ID\"].nunique())\n",
    "print(train[\"Patient_ID\"].nunique())\n",
    "print(test[\"Patient_ID\"].nunique())"
   ]
  },
  {
   "cell_type": "code",
   "execution_count": 9,
   "metadata": {},
   "outputs": [
    {
     "data": {
      "text/html": [
       "<div>\n",
       "<style scoped>\n",
       "    .dataframe tbody tr th:only-of-type {\n",
       "        vertical-align: middle;\n",
       "    }\n",
       "\n",
       "    .dataframe tbody tr th {\n",
       "        vertical-align: top;\n",
       "    }\n",
       "\n",
       "    .dataframe thead th {\n",
       "        text-align: right;\n",
       "    }\n",
       "</style>\n",
       "<table border=\"1\" class=\"dataframe\">\n",
       "  <thead>\n",
       "    <tr style=\"text-align: right;\">\n",
       "      <th></th>\n",
       "      <th>Patient_ID</th>\n",
       "      <th>Health_Camp_ID</th>\n",
       "      <th>Donation</th>\n",
       "      <th>Health_Score</th>\n",
       "      <th>Unnamed: 4</th>\n",
       "    </tr>\n",
       "  </thead>\n",
       "  <tbody>\n",
       "    <tr>\n",
       "      <th>0</th>\n",
       "      <td>506181</td>\n",
       "      <td>6560</td>\n",
       "      <td>40</td>\n",
       "      <td>0.439024</td>\n",
       "      <td>NaN</td>\n",
       "    </tr>\n",
       "    <tr>\n",
       "      <th>1</th>\n",
       "      <td>494977</td>\n",
       "      <td>6560</td>\n",
       "      <td>20</td>\n",
       "      <td>0.097561</td>\n",
       "      <td>NaN</td>\n",
       "    </tr>\n",
       "    <tr>\n",
       "      <th>2</th>\n",
       "      <td>518680</td>\n",
       "      <td>6560</td>\n",
       "      <td>10</td>\n",
       "      <td>0.048780</td>\n",
       "      <td>NaN</td>\n",
       "    </tr>\n",
       "    <tr>\n",
       "      <th>3</th>\n",
       "      <td>509916</td>\n",
       "      <td>6560</td>\n",
       "      <td>30</td>\n",
       "      <td>0.634146</td>\n",
       "      <td>NaN</td>\n",
       "    </tr>\n",
       "    <tr>\n",
       "      <th>4</th>\n",
       "      <td>488006</td>\n",
       "      <td>6560</td>\n",
       "      <td>20</td>\n",
       "      <td>0.024390</td>\n",
       "      <td>NaN</td>\n",
       "    </tr>\n",
       "  </tbody>\n",
       "</table>\n",
       "</div>"
      ],
      "text/plain": [
       "   Patient_ID  Health_Camp_ID  Donation  Health_Score  Unnamed: 4\n",
       "0      506181            6560        40      0.439024         NaN\n",
       "1      494977            6560        20      0.097561         NaN\n",
       "2      518680            6560        10      0.048780         NaN\n",
       "3      509916            6560        30      0.634146         NaN\n",
       "4      488006            6560        20      0.024390         NaN"
      ]
     },
     "execution_count": 9,
     "metadata": {},
     "output_type": "execute_result"
    }
   ],
   "source": [
    "first_health_camp.head()"
   ]
  },
  {
   "cell_type": "code",
   "execution_count": 10,
   "metadata": {},
   "outputs": [
    {
     "data": {
      "text/html": [
       "<div>\n",
       "<style scoped>\n",
       "    .dataframe tbody tr th:only-of-type {\n",
       "        vertical-align: middle;\n",
       "    }\n",
       "\n",
       "    .dataframe tbody tr th {\n",
       "        vertical-align: top;\n",
       "    }\n",
       "\n",
       "    .dataframe thead th {\n",
       "        text-align: right;\n",
       "    }\n",
       "</style>\n",
       "<table border=\"1\" class=\"dataframe\">\n",
       "  <thead>\n",
       "    <tr style=\"text-align: right;\">\n",
       "      <th></th>\n",
       "      <th>Patient_ID</th>\n",
       "      <th>Health_Camp_ID</th>\n",
       "      <th>Health Score</th>\n",
       "    </tr>\n",
       "  </thead>\n",
       "  <tbody>\n",
       "    <tr>\n",
       "      <th>0</th>\n",
       "      <td>526631</td>\n",
       "      <td>6536</td>\n",
       "      <td>0.875136</td>\n",
       "    </tr>\n",
       "    <tr>\n",
       "      <th>1</th>\n",
       "      <td>509122</td>\n",
       "      <td>6536</td>\n",
       "      <td>0.755700</td>\n",
       "    </tr>\n",
       "    <tr>\n",
       "      <th>2</th>\n",
       "      <td>498864</td>\n",
       "      <td>6536</td>\n",
       "      <td>0.673181</td>\n",
       "    </tr>\n",
       "    <tr>\n",
       "      <th>3</th>\n",
       "      <td>515398</td>\n",
       "      <td>6536</td>\n",
       "      <td>0.722041</td>\n",
       "    </tr>\n",
       "    <tr>\n",
       "      <th>4</th>\n",
       "      <td>504624</td>\n",
       "      <td>6536</td>\n",
       "      <td>0.464712</td>\n",
       "    </tr>\n",
       "  </tbody>\n",
       "</table>\n",
       "</div>"
      ],
      "text/plain": [
       "   Patient_ID  Health_Camp_ID  Health Score\n",
       "0      526631            6536      0.875136\n",
       "1      509122            6536      0.755700\n",
       "2      498864            6536      0.673181\n",
       "3      515398            6536      0.722041\n",
       "4      504624            6536      0.464712"
      ]
     },
     "execution_count": 10,
     "metadata": {},
     "output_type": "execute_result"
    }
   ],
   "source": [
    "second_health_camp.head()"
   ]
  },
  {
   "cell_type": "code",
   "execution_count": 11,
   "metadata": {},
   "outputs": [
    {
     "data": {
      "text/html": [
       "<div>\n",
       "<style scoped>\n",
       "    .dataframe tbody tr th:only-of-type {\n",
       "        vertical-align: middle;\n",
       "    }\n",
       "\n",
       "    .dataframe tbody tr th {\n",
       "        vertical-align: top;\n",
       "    }\n",
       "\n",
       "    .dataframe thead th {\n",
       "        text-align: right;\n",
       "    }\n",
       "</style>\n",
       "<table border=\"1\" class=\"dataframe\">\n",
       "  <thead>\n",
       "    <tr style=\"text-align: right;\">\n",
       "      <th></th>\n",
       "      <th>Patient_ID</th>\n",
       "      <th>Health_Camp_ID</th>\n",
       "      <th>Number_of_stall_visited</th>\n",
       "      <th>Last_Stall_Visited_Number</th>\n",
       "    </tr>\n",
       "  </thead>\n",
       "  <tbody>\n",
       "    <tr>\n",
       "      <th>0</th>\n",
       "      <td>517875</td>\n",
       "      <td>6527</td>\n",
       "      <td>3</td>\n",
       "      <td>1</td>\n",
       "    </tr>\n",
       "    <tr>\n",
       "      <th>1</th>\n",
       "      <td>504692</td>\n",
       "      <td>6578</td>\n",
       "      <td>1</td>\n",
       "      <td>1</td>\n",
       "    </tr>\n",
       "    <tr>\n",
       "      <th>2</th>\n",
       "      <td>504692</td>\n",
       "      <td>6527</td>\n",
       "      <td>3</td>\n",
       "      <td>1</td>\n",
       "    </tr>\n",
       "    <tr>\n",
       "      <th>3</th>\n",
       "      <td>493167</td>\n",
       "      <td>6527</td>\n",
       "      <td>4</td>\n",
       "      <td>4</td>\n",
       "    </tr>\n",
       "    <tr>\n",
       "      <th>4</th>\n",
       "      <td>510954</td>\n",
       "      <td>6528</td>\n",
       "      <td>2</td>\n",
       "      <td>2</td>\n",
       "    </tr>\n",
       "  </tbody>\n",
       "</table>\n",
       "</div>"
      ],
      "text/plain": [
       "   Patient_ID  Health_Camp_ID  Number_of_stall_visited  \\\n",
       "0      517875            6527                        3   \n",
       "1      504692            6578                        1   \n",
       "2      504692            6527                        3   \n",
       "3      493167            6527                        4   \n",
       "4      510954            6528                        2   \n",
       "\n",
       "   Last_Stall_Visited_Number  \n",
       "0                          1  \n",
       "1                          1  \n",
       "2                          1  \n",
       "3                          4  \n",
       "4                          2  "
      ]
     },
     "execution_count": 11,
     "metadata": {},
     "output_type": "execute_result"
    }
   ],
   "source": [
    "third_health_camp.head()"
   ]
  },
  {
   "cell_type": "code",
   "execution_count": 44,
   "metadata": {},
   "outputs": [
    {
     "data": {
      "text/html": [
       "<div>\n",
       "<style scoped>\n",
       "    .dataframe tbody tr th:only-of-type {\n",
       "        vertical-align: middle;\n",
       "    }\n",
       "\n",
       "    .dataframe tbody tr th {\n",
       "        vertical-align: top;\n",
       "    }\n",
       "\n",
       "    .dataframe thead th {\n",
       "        text-align: right;\n",
       "    }\n",
       "</style>\n",
       "<table border=\"1\" class=\"dataframe\">\n",
       "  <thead>\n",
       "    <tr style=\"text-align: right;\">\n",
       "      <th></th>\n",
       "      <th>Patient_ID</th>\n",
       "      <th>Health_Camp_ID</th>\n",
       "      <th>Number_of_stall_visited</th>\n",
       "      <th>Last_Stall_Visited_Number</th>\n",
       "    </tr>\n",
       "  </thead>\n",
       "  <tbody>\n",
       "    <tr>\n",
       "      <th>364</th>\n",
       "      <td>486530</td>\n",
       "      <td>6527</td>\n",
       "      <td>0</td>\n",
       "      <td>0</td>\n",
       "    </tr>\n",
       "    <tr>\n",
       "      <th>439</th>\n",
       "      <td>492766</td>\n",
       "      <td>6527</td>\n",
       "      <td>0</td>\n",
       "      <td>0</td>\n",
       "    </tr>\n",
       "    <tr>\n",
       "      <th>464</th>\n",
       "      <td>510061</td>\n",
       "      <td>6527</td>\n",
       "      <td>0</td>\n",
       "      <td>0</td>\n",
       "    </tr>\n",
       "    <tr>\n",
       "      <th>755</th>\n",
       "      <td>514624</td>\n",
       "      <td>6527</td>\n",
       "      <td>0</td>\n",
       "      <td>0</td>\n",
       "    </tr>\n",
       "    <tr>\n",
       "      <th>777</th>\n",
       "      <td>506873</td>\n",
       "      <td>6527</td>\n",
       "      <td>0</td>\n",
       "      <td>0</td>\n",
       "    </tr>\n",
       "    <tr>\n",
       "      <th>922</th>\n",
       "      <td>489505</td>\n",
       "      <td>6527</td>\n",
       "      <td>0</td>\n",
       "      <td>0</td>\n",
       "    </tr>\n",
       "    <tr>\n",
       "      <th>997</th>\n",
       "      <td>503497</td>\n",
       "      <td>6527</td>\n",
       "      <td>0</td>\n",
       "      <td>0</td>\n",
       "    </tr>\n",
       "    <tr>\n",
       "      <th>1373</th>\n",
       "      <td>514108</td>\n",
       "      <td>6527</td>\n",
       "      <td>0</td>\n",
       "      <td>0</td>\n",
       "    </tr>\n",
       "    <tr>\n",
       "      <th>1381</th>\n",
       "      <td>515663</td>\n",
       "      <td>6527</td>\n",
       "      <td>0</td>\n",
       "      <td>0</td>\n",
       "    </tr>\n",
       "    <tr>\n",
       "      <th>1452</th>\n",
       "      <td>516582</td>\n",
       "      <td>6527</td>\n",
       "      <td>0</td>\n",
       "      <td>0</td>\n",
       "    </tr>\n",
       "    <tr>\n",
       "      <th>1486</th>\n",
       "      <td>523002</td>\n",
       "      <td>6527</td>\n",
       "      <td>0</td>\n",
       "      <td>0</td>\n",
       "    </tr>\n",
       "    <tr>\n",
       "      <th>1536</th>\n",
       "      <td>525290</td>\n",
       "      <td>6527</td>\n",
       "      <td>0</td>\n",
       "      <td>0</td>\n",
       "    </tr>\n",
       "    <tr>\n",
       "      <th>1671</th>\n",
       "      <td>489805</td>\n",
       "      <td>6527</td>\n",
       "      <td>0</td>\n",
       "      <td>0</td>\n",
       "    </tr>\n",
       "    <tr>\n",
       "      <th>1700</th>\n",
       "      <td>525269</td>\n",
       "      <td>6527</td>\n",
       "      <td>0</td>\n",
       "      <td>0</td>\n",
       "    </tr>\n",
       "    <tr>\n",
       "      <th>1838</th>\n",
       "      <td>525007</td>\n",
       "      <td>6527</td>\n",
       "      <td>0</td>\n",
       "      <td>0</td>\n",
       "    </tr>\n",
       "    <tr>\n",
       "      <th>1846</th>\n",
       "      <td>507508</td>\n",
       "      <td>6527</td>\n",
       "      <td>0</td>\n",
       "      <td>0</td>\n",
       "    </tr>\n",
       "    <tr>\n",
       "      <th>1849</th>\n",
       "      <td>497040</td>\n",
       "      <td>6527</td>\n",
       "      <td>0</td>\n",
       "      <td>0</td>\n",
       "    </tr>\n",
       "    <tr>\n",
       "      <th>1851</th>\n",
       "      <td>496394</td>\n",
       "      <td>6527</td>\n",
       "      <td>0</td>\n",
       "      <td>0</td>\n",
       "    </tr>\n",
       "  </tbody>\n",
       "</table>\n",
       "</div>"
      ],
      "text/plain": [
       "      Patient_ID  Health_Camp_ID  Number_of_stall_visited  \\\n",
       "364       486530            6527                        0   \n",
       "439       492766            6527                        0   \n",
       "464       510061            6527                        0   \n",
       "755       514624            6527                        0   \n",
       "777       506873            6527                        0   \n",
       "922       489505            6527                        0   \n",
       "997       503497            6527                        0   \n",
       "1373      514108            6527                        0   \n",
       "1381      515663            6527                        0   \n",
       "1452      516582            6527                        0   \n",
       "1486      523002            6527                        0   \n",
       "1536      525290            6527                        0   \n",
       "1671      489805            6527                        0   \n",
       "1700      525269            6527                        0   \n",
       "1838      525007            6527                        0   \n",
       "1846      507508            6527                        0   \n",
       "1849      497040            6527                        0   \n",
       "1851      496394            6527                        0   \n",
       "\n",
       "      Last_Stall_Visited_Number  \n",
       "364                           0  \n",
       "439                           0  \n",
       "464                           0  \n",
       "755                           0  \n",
       "777                           0  \n",
       "922                           0  \n",
       "997                           0  \n",
       "1373                          0  \n",
       "1381                          0  \n",
       "1452                          0  \n",
       "1486                          0  \n",
       "1536                          0  \n",
       "1671                          0  \n",
       "1700                          0  \n",
       "1838                          0  \n",
       "1846                          0  \n",
       "1849                          0  \n",
       "1851                          0  "
      ]
     },
     "execution_count": 44,
     "metadata": {},
     "output_type": "execute_result"
    }
   ],
   "source": [
    "third_health_camp[third_health_camp[\"Number_of_stall_visited\"]==0]"
   ]
  },
  {
   "cell_type": "code",
   "execution_count": 75,
   "metadata": {},
   "outputs": [],
   "source": [
    "# create a new dataframe to play around with the data without affecting source\n",
    "working_data = train.copy()"
   ]
  },
  {
   "cell_type": "code",
   "execution_count": 76,
   "metadata": {},
   "outputs": [],
   "source": [
    "def merge(working_data):\n",
    "    \"\"\"To merge health camp details and profile info\"\"\"\n",
    "    a=pd.merge(working_data,health_camp_details,on=\"Health_Camp_ID\",how=\"left\") #merge health camp details\n",
    "    b=pd.merge(a, patient_profile,on=\"Patient_ID\",how=\"left\") #merge profile info of patient\n",
    "    return b"
   ]
  },
  {
   "cell_type": "code",
   "execution_count": 77,
   "metadata": {},
   "outputs": [],
   "source": [
    "def merge_healthscore(cols):\n",
    "    \"\"\"Puts 1 if health score exist 0 if not\"\"\"\n",
    "    ID = cols[0]\n",
    "    health_ID = cols[1]\n",
    "    c_type = cols[2]\n",
    "    score = 0\n",
    "    \n",
    "    if c_type =='First':\n",
    "        if ID in first_health_camp[\"Patient_ID\"].values:\n",
    "            if health_ID in first_health_camp[first_health_camp[\"Patient_ID\"]==ID][\"Health_Camp_ID\"].values:\n",
    "                    score=1\n",
    "        \n",
    "    elif c_type =='Second':\n",
    "        if ID in second_health_camp[\"Patient_ID\"].values:\n",
    "            if health_ID in second_health_camp[second_health_camp[\"Patient_ID\"]==ID][\"Health_Camp_ID\"].values:\n",
    "                    score=1\n",
    "                    \n",
    "    elif c_type =='Third':\n",
    "        score=\"NA\"\n",
    "    \n",
    "    return score"
   ]
  },
  {
   "cell_type": "code",
   "execution_count": 78,
   "metadata": {},
   "outputs": [],
   "source": [
    "def merge_stall(cols):\n",
    "    \"\"\"Return 1 if stall visited 0 if not\"\"\"\n",
    "    ID = cols[0]\n",
    "    health_ID = cols[1]\n",
    "    c_type = cols[2]\n",
    "    score = 0\n",
    "    if c_type == \"Third\":\n",
    "        if ID in third_health_camp[\"Patient_ID\"].values:\n",
    "            if health_ID in third_health_camp[third_health_camp[\"Patient_ID\"]==ID][\"Health_Camp_ID\"].values:\n",
    "                a=third_health_camp[third_health_camp[\"Patient_ID\"]==ID]\n",
    "                b=a[a[\"Health_Camp_ID\"]==health_ID]\n",
    "                if b[\"Number_of_stall_visited\"].values[0]!=0:\n",
    "                    score=1\n",
    "    else:\n",
    "        score=\"NA\"\n",
    "    return score"
   ]
  },
  {
   "cell_type": "code",
   "execution_count": 79,
   "metadata": {},
   "outputs": [],
   "source": [
    "working_data=merge(working_data)"
   ]
  },
  {
   "cell_type": "code",
   "execution_count": 80,
   "metadata": {},
   "outputs": [],
   "source": [
    "working_data[\"Health_Score_exists\"]=working_data[[\"Patient_ID\",\"Health_Camp_ID\",\"Category1\"]].apply(merge_healthscore,axis=1)"
   ]
  },
  {
   "cell_type": "code",
   "execution_count": 81,
   "metadata": {},
   "outputs": [],
   "source": [
    "working_data[\"Stall_visited\"]=working_data[[\"Patient_ID\",\"Health_Camp_ID\",\"Category1\"]].apply(merge_stall,axis=1)"
   ]
  },
  {
   "cell_type": "code",
   "execution_count": 82,
   "metadata": {},
   "outputs": [],
   "source": [
    "# create a column favourable 1 if yes 0 if no\n",
    "def create_favourable(cols):\n",
    "    score_exists=cols[0]\n",
    "    stall_visited=cols[1]\n",
    "    \n",
    "    ret=0\n",
    "    if score_exists !=\"NA\":\n",
    "        if score_exists==1:\n",
    "            ret=1\n",
    "        elif score_exists==0:\n",
    "            ret=0\n",
    "    elif score_exists==\"NA\":\n",
    "        if stall_visited==1:\n",
    "            ret=1\n",
    "        elif stall_visited ==0:\n",
    "            ret = 0\n",
    "    return ret"
   ]
  },
  {
   "cell_type": "code",
   "execution_count": 83,
   "metadata": {},
   "outputs": [],
   "source": [
    "working_data[\"Favourable\"]=working_data[[\"Health_Score_exists\",\"Stall_visited\"]].apply(create_favourable,axis=1)"
   ]
  },
  {
   "cell_type": "code",
   "execution_count": 84,
   "metadata": {},
   "outputs": [],
   "source": [
    "working_data.drop([\"Health_Score_exists\",\"Stall_visited\"],axis=1,inplace=True)"
   ]
  },
  {
   "cell_type": "code",
   "execution_count": 85,
   "metadata": {},
   "outputs": [
    {
     "name": "stdout",
     "output_type": "stream",
     "text": [
      "<class 'pandas.core.frame.DataFrame'>\n",
      "Int64Index: 75278 entries, 0 to 75277\n",
      "Data columns (total 24 columns):\n",
      " #   Column             Non-Null Count  Dtype \n",
      "---  ------             --------------  ----- \n",
      " 0   Patient_ID         75278 non-null  int64 \n",
      " 1   Health_Camp_ID     75278 non-null  int64 \n",
      " 2   Registration_Date  74944 non-null  object\n",
      " 3   Var1               75278 non-null  int64 \n",
      " 4   Var2               75278 non-null  int64 \n",
      " 5   Var3               75278 non-null  int64 \n",
      " 6   Var4               75278 non-null  int64 \n",
      " 7   Var5               75278 non-null  int64 \n",
      " 8   Camp_Start_Date    75278 non-null  object\n",
      " 9   Camp_End_Date      75278 non-null  object\n",
      " 10  Category1          75278 non-null  object\n",
      " 11  Category2          75278 non-null  object\n",
      " 12  Category3          75278 non-null  int64 \n",
      " 13  Online_Follower    75278 non-null  int64 \n",
      " 14  LinkedIn_Shared    75278 non-null  int64 \n",
      " 15  Twitter_Shared     75278 non-null  int64 \n",
      " 16  Facebook_Shared    75278 non-null  int64 \n",
      " 17  Income             75278 non-null  object\n",
      " 18  Education_Score    75278 non-null  object\n",
      " 19  Age                75278 non-null  object\n",
      " 20  First_Interaction  75278 non-null  object\n",
      " 21  City_Type          42070 non-null  object\n",
      " 22  Employer_Category  15203 non-null  object\n",
      " 23  Favourable         75278 non-null  int64 \n",
      "dtypes: int64(13), object(11)\n",
      "memory usage: 14.4+ MB\n"
     ]
    }
   ],
   "source": [
    "working_data.info()"
   ]
  },
  {
   "cell_type": "code",
   "execution_count": 87,
   "metadata": {},
   "outputs": [],
   "source": [
    "def time_in_days(cols):\n",
    "    if cols[0] is not np.NaN:\n",
    "        start_date=str(cols[0]).split('-')\n",
    "    else:\n",
    "        start_date=str(cols[1]).split('-')\n",
    "        \n",
    "    end_date = str(cols[1]).split('-')\n",
    "    \n",
    "    months={\"Jan\":1,\"Feb\":2,\"Mar\":3,\"Apr\":4,\"May\":5,\"Jun\":6,\"Jul\":7,\"Aug\":8,\"Sep\":9,\"Oct\":10,\"Nov\":11,\"Dec\":12}\n",
    "    def dur(date):\n",
    "        return int(date[2])*365+months[date[1]]*30+int(date[0])\n",
    "    return dur(end_date)-dur(start_date)"
   ]
  },
  {
   "cell_type": "code",
   "execution_count": 88,
   "metadata": {},
   "outputs": [],
   "source": [
    "working_data[\"time_to_start\"]=working_data[[\"Registration_Date\",\"Camp_Start_Date\"]].apply(time_in_days,axis=1)\n",
    "working_data[\"duration\"]=working_data[[\"Camp_Start_Date\",\"Camp_End_Date\"]].apply(time_in_days,axis=1)\n",
    "working_data[\"time_after_first\"]=working_data[[\"Registration_Date\",\"First_Interaction\"]].apply(time_in_days,axis=1)"
   ]
  },
  {
   "cell_type": "code",
   "execution_count": 89,
   "metadata": {},
   "outputs": [],
   "source": [
    "working_data.drop([\"Registration_Date\",\"Camp_Start_Date\",\"Camp_End_Date\"],axis=1,inplace=True)"
   ]
  },
  {
   "cell_type": "code",
   "execution_count": 59,
   "metadata": {},
   "outputs": [
    {
     "name": "stdout",
     "output_type": "stream",
     "text": [
      "<class 'pandas.core.frame.DataFrame'>\n",
      "Int64Index: 75278 entries, 0 to 75277\n",
      "Data columns (total 23 columns):\n",
      " #   Column             Non-Null Count  Dtype \n",
      "---  ------             --------------  ----- \n",
      " 0   Patient_ID         75278 non-null  int64 \n",
      " 1   Health_Camp_ID     75278 non-null  int64 \n",
      " 2   Var1               75278 non-null  int64 \n",
      " 3   Var2               75278 non-null  int64 \n",
      " 4   Var3               75278 non-null  int64 \n",
      " 5   Var4               75278 non-null  int64 \n",
      " 6   Var5               75278 non-null  int64 \n",
      " 7   Category1          75278 non-null  object\n",
      " 8   Category2          75278 non-null  object\n",
      " 9   Category3          75278 non-null  int64 \n",
      " 10  Online_Follower    75278 non-null  int64 \n",
      " 11  LinkedIn_Shared    75278 non-null  int64 \n",
      " 12  Twitter_Shared     75278 non-null  int64 \n",
      " 13  Facebook_Shared    75278 non-null  int64 \n",
      " 14  Income             75278 non-null  object\n",
      " 15  Education_Score    75278 non-null  object\n",
      " 16  Age                75278 non-null  object\n",
      " 17  First_Interaction  75278 non-null  object\n",
      " 18  City_Type          42070 non-null  object\n",
      " 19  Employer_Category  15203 non-null  object\n",
      " 20  Favourable         75278 non-null  int64 \n",
      " 21  time_to_start      75278 non-null  int64 \n",
      " 22  duration           75278 non-null  int64 \n",
      "dtypes: int64(15), object(8)\n",
      "memory usage: 13.8+ MB\n"
     ]
    }
   ],
   "source": [
    "working_data.info()"
   ]
  },
  {
   "cell_type": "code",
   "execution_count": 90,
   "metadata": {},
   "outputs": [],
   "source": [
    "working_data[\"City_Type\"]=working_data[\"City_Type\"].fillna('B')"
   ]
  },
  {
   "cell_type": "code",
   "execution_count": 65,
   "metadata": {},
   "outputs": [
    {
     "data": {
      "text/plain": [
       "array([nan, 'Others', 'Technology', 'Consulting', 'Software Industry',\n",
       "       'Manufacturing', 'Education', 'Health', 'Retail', 'BFSI',\n",
       "       'Transport', 'Broadcasting', 'Telecom', 'Real Estate', 'Food'],\n",
       "      dtype=object)"
      ]
     },
     "execution_count": 65,
     "metadata": {},
     "output_type": "execute_result"
    }
   ],
   "source": [
    "working_data[\"Employer_Category\"].unique()"
   ]
  },
  {
   "cell_type": "code",
   "execution_count": 66,
   "metadata": {},
   "outputs": [
    {
     "data": {
      "text/plain": [
       "Employer_Category\n",
       "BFSI                  845\n",
       "Broadcasting          185\n",
       "Consulting           2128\n",
       "Education            1125\n",
       "Food                  302\n",
       "Health                446\n",
       "Manufacturing         510\n",
       "Others               2239\n",
       "Real Estate           361\n",
       "Retail                535\n",
       "Software Industry    2358\n",
       "Technology           3533\n",
       "Telecom               272\n",
       "Transport             364\n",
       "Name: Patient_ID, dtype: int64"
      ]
     },
     "execution_count": 66,
     "metadata": {},
     "output_type": "execute_result"
    }
   ],
   "source": [
    "working_data.groupby(working_data[\"Employer_Category\"])[\"Patient_ID\"].count()"
   ]
  },
  {
   "cell_type": "code",
   "execution_count": 91,
   "metadata": {},
   "outputs": [],
   "source": [
    "working_data[\"Employer_Category\"]=working_data[\"Employer_Category\"].fillna(\"Technology\")"
   ]
  },
  {
   "cell_type": "code",
   "execution_count": 92,
   "metadata": {},
   "outputs": [],
   "source": [
    "cat1=pd.get_dummies(working_data[\"Category1\"],drop_first=True)\n",
    "cat2=pd.get_dummies(working_data[\"Category2\"],drop_first=True)\n",
    "\n",
    "working_data= pd.concat([working_data.drop([\"Category1\",\"Category2\"],axis=1),cat1,cat2],axis=1)"
   ]
  },
  {
   "cell_type": "code",
   "execution_count": 93,
   "metadata": {},
   "outputs": [],
   "source": [
    "working_data.rename(columns={'B':'B1'},inplace=True)"
   ]
  },
  {
   "cell_type": "code",
   "execution_count": 84,
   "metadata": {},
   "outputs": [
    {
     "data": {
      "text/plain": [
       "None    53546\n",
       "0        8393\n",
       "1        5346\n",
       "2        4108\n",
       "3        2155\n",
       "4        1034\n",
       "5         440\n",
       "6         256\n",
       "Name: Income, dtype: int64"
      ]
     },
     "execution_count": 84,
     "metadata": {},
     "output_type": "execute_result"
    }
   ],
   "source": [
    "working_data[\"Income\"].value_counts()"
   ]
  },
  {
   "cell_type": "code",
   "execution_count": 94,
   "metadata": {},
   "outputs": [],
   "source": [
    "#fill income none values with mean income\n",
    "working_data[\"Income\"]=working_data[\"Income\"].apply(lambda x: 1.284 if x==\"None\" else x)"
   ]
  },
  {
   "cell_type": "code",
   "execution_count": 102,
   "metadata": {},
   "outputs": [
    {
     "name": "stdout",
     "output_type": "stream",
     "text": [
      "avg education score:77.96219856369159\n"
     ]
    }
   ],
   "source": [
    "s=0\n",
    "c=0\n",
    "for a in working_data[\"Education_Score\"].values:\n",
    "    if a!=\"None\":\n",
    "        s+=float(a)\n",
    "        c+=1\n",
    "print(\"avg education score:{}\".format(s/c))"
   ]
  },
  {
   "cell_type": "code",
   "execution_count": 95,
   "metadata": {},
   "outputs": [],
   "source": [
    "working_data[\"Education_Score\"]=working_data[\"Education_Score\"].apply(lambda x: 77.96 if x==\"None\" else x)"
   ]
  },
  {
   "cell_type": "code",
   "execution_count": 107,
   "metadata": {},
   "outputs": [
    {
     "name": "stdout",
     "output_type": "stream",
     "text": [
      "avg age:47.90606777655709\n"
     ]
    }
   ],
   "source": [
    "s=0\n",
    "c=0\n",
    "for a in working_data[\"Age\"].values:\n",
    "    if a!=\"None\":\n",
    "        s+=int(a)\n",
    "        c+=1\n",
    "print(\"avg age:{}\".format(s/c))"
   ]
  },
  {
   "cell_type": "code",
   "execution_count": 96,
   "metadata": {},
   "outputs": [],
   "source": [
    "working_data[\"Age\"]=working_data[\"Age\"].apply(lambda x: 48 if x==\"None\" else x)"
   ]
  },
  {
   "cell_type": "code",
   "execution_count": 97,
   "metadata": {},
   "outputs": [],
   "source": [
    "working_data.drop(\"First_Interaction\",axis=1,inplace=True)"
   ]
  },
  {
   "cell_type": "code",
   "execution_count": 98,
   "metadata": {},
   "outputs": [],
   "source": [
    "city_typ = pd.get_dummies(working_data[\"City_Type\"],drop_first=True)\n",
    "emp_category= pd.get_dummies(working_data[\"Employer_Category\"],drop_first=True)\n",
    "\n",
    "working_data=pd.concat([working_data.drop([\"City_Type\",\"Employer_Category\"],axis=1),city_typ,emp_category],axis=1)"
   ]
  },
  {
   "cell_type": "code",
   "execution_count": 99,
   "metadata": {},
   "outputs": [
    {
     "data": {
      "text/plain": [
       "0    54744\n",
       "1    20534\n",
       "Name: Favourable, dtype: int64"
      ]
     },
     "execution_count": 99,
     "metadata": {},
     "output_type": "execute_result"
    }
   ],
   "source": [
    "working_data[\"Favourable\"].value_counts()"
   ]
  },
  {
   "cell_type": "code",
   "execution_count": 25,
   "metadata": {},
   "outputs": [],
   "source": [
    "# preparing test data"
   ]
  },
  {
   "cell_type": "code",
   "execution_count": 100,
   "metadata": {},
   "outputs": [],
   "source": [
    "test_data=merge(test)"
   ]
  },
  {
   "cell_type": "code",
   "execution_count": 101,
   "metadata": {},
   "outputs": [],
   "source": [
    "test_data[\"time_to_start\"]=test_data[[\"Registration_Date\",\"Camp_Start_Date\"]].apply(time_in_days,axis=1)\n",
    "test_data[\"duration\"]=test_data[[\"Camp_Start_Date\",\"Camp_End_Date\"]].apply(time_in_days,axis=1)\n",
    "test_data[\"time_after_first\"]=test_data[[\"Registration_Date\",\"First_Interaction\"]].apply(time_in_days,axis=1)"
   ]
  },
  {
   "cell_type": "code",
   "execution_count": 102,
   "metadata": {},
   "outputs": [],
   "source": [
    "test_data.drop([\"Registration_Date\",\"Camp_Start_Date\",\"Camp_End_Date\"],axis=1,inplace=True)"
   ]
  },
  {
   "cell_type": "code",
   "execution_count": 103,
   "metadata": {},
   "outputs": [],
   "source": [
    "test_data[\"City_Type\"]=test_data[\"City_Type\"].fillna('B')"
   ]
  },
  {
   "cell_type": "code",
   "execution_count": 104,
   "metadata": {},
   "outputs": [],
   "source": [
    "test_data[\"Employer_Category\"]=test_data[\"Employer_Category\"].fillna(\"Technology\")"
   ]
  },
  {
   "cell_type": "code",
   "execution_count": 105,
   "metadata": {},
   "outputs": [],
   "source": [
    "cat1=pd.get_dummies(test_data[\"Category1\"],drop_first=True)\n",
    "cat2=pd.get_dummies(test_data[\"Category2\"],drop_first=True)\n",
    "\n",
    "test_data= pd.concat([test_data.drop([\"Category1\",\"Category2\"],axis=1),cat1,cat2],axis=1)"
   ]
  },
  {
   "cell_type": "code",
   "execution_count": 106,
   "metadata": {},
   "outputs": [],
   "source": [
    "#fill income none values with mean income\n",
    "test_data[\"Income\"]=test_data[\"Income\"].apply(lambda x: 1.284 if x==\"None\" else x)"
   ]
  },
  {
   "cell_type": "code",
   "execution_count": 107,
   "metadata": {},
   "outputs": [],
   "source": [
    "test_data[\"Education_Score\"]=test_data[\"Education_Score\"].apply(lambda x: 77.96 if x==\"None\" else x)"
   ]
  },
  {
   "cell_type": "code",
   "execution_count": 108,
   "metadata": {},
   "outputs": [],
   "source": [
    "test_data[\"Age\"]=test_data[\"Age\"].apply(lambda x: 48 if x==\"None\" else x)"
   ]
  },
  {
   "cell_type": "code",
   "execution_count": 109,
   "metadata": {},
   "outputs": [],
   "source": [
    "test_data.drop(\"First_Interaction\",axis=1,inplace=True)"
   ]
  },
  {
   "cell_type": "code",
   "execution_count": 110,
   "metadata": {},
   "outputs": [],
   "source": [
    "city_typ = pd.get_dummies(test_data[\"City_Type\"],drop_first=True)\n",
    "emp_category= pd.get_dummies(test_data[\"Employer_Category\"],drop_first=True)\n",
    "\n",
    "test_data=pd.concat([test_data.drop([\"City_Type\",\"Employer_Category\"],axis=1),city_typ,emp_category],axis=1)"
   ]
  },
  {
   "cell_type": "code",
   "execution_count": 113,
   "metadata": {},
   "outputs": [],
   "source": [
    "test_data.insert(20,column=\"B1\",value=np.zeros(35249))"
   ]
  },
  {
   "cell_type": "markdown",
   "metadata": {},
   "source": [
    "# model building"
   ]
  },
  {
   "cell_type": "code",
   "execution_count": 116,
   "metadata": {},
   "outputs": [],
   "source": [
    "from keras.models import Sequential\n",
    "from keras.layers import Dense, Dropout"
   ]
  },
  {
   "cell_type": "code",
   "execution_count": 117,
   "metadata": {},
   "outputs": [],
   "source": [
    "x=working_data.drop([\"Favourable\",\"Patient_ID\",\"Health_Camp_ID\"],axis=1).values\n",
    "y=working_data[\"Favourable\"].values.reshape([75278,])\n"
   ]
  },
  {
   "cell_type": "code",
   "execution_count": 118,
   "metadata": {},
   "outputs": [],
   "source": [
    "from sklearn.preprocessing import StandardScaler"
   ]
  },
  {
   "cell_type": "code",
   "execution_count": 119,
   "metadata": {},
   "outputs": [],
   "source": [
    "scaler=StandardScaler()"
   ]
  },
  {
   "cell_type": "code",
   "execution_count": 120,
   "metadata": {},
   "outputs": [
    {
     "data": {
      "text/plain": [
       "StandardScaler(copy=True, with_mean=True, with_std=True)"
      ]
     },
     "execution_count": 120,
     "metadata": {},
     "output_type": "execute_result"
    }
   ],
   "source": [
    "scaler.fit(x)"
   ]
  },
  {
   "cell_type": "code",
   "execution_count": 121,
   "metadata": {},
   "outputs": [],
   "source": [
    "x=scaler.transform(x)"
   ]
  },
  {
   "cell_type": "code",
   "execution_count": 122,
   "metadata": {},
   "outputs": [],
   "source": [
    "x_test = scaler.transform(test_data.drop([\"Patient_ID\",\"Health_Camp_ID\"],axis=1))"
   ]
  },
  {
   "cell_type": "markdown",
   "metadata": {},
   "source": [
    "### Neural Net"
   ]
  },
  {
   "cell_type": "code",
   "execution_count": 188,
   "metadata": {},
   "outputs": [],
   "source": [
    "model=Sequential()"
   ]
  },
  {
   "cell_type": "code",
   "execution_count": 189,
   "metadata": {},
   "outputs": [],
   "source": [
    "model.add(Dense(50,activation=\"relu\",kernel_initializer='he_normal'))\n",
    "model.add(Dropout(0.2))\n",
    "model.add(Dense(50,activation=\"relu\",kernel_initializer='he_normal'))\n",
    "model.add(Dense(1,activation=\"sigmoid\",kernel_initializer=\"he_normal\"))"
   ]
  },
  {
   "cell_type": "code",
   "execution_count": 190,
   "metadata": {},
   "outputs": [],
   "source": [
    "model.compile(optimizer=\"adam\",loss=\"binary_crossentropy\",metrics=[\"accuracy\"])"
   ]
  },
  {
   "cell_type": "code",
   "execution_count": 191,
   "metadata": {},
   "outputs": [
    {
     "name": "stdout",
     "output_type": "stream",
     "text": [
      "Epoch 1/20\n",
      "75278/75278 [==============================] - 8s 109us/step - loss: 0.4770 - acc: 0.7761\n",
      "Epoch 2/20\n",
      "75278/75278 [==============================] - 7s 94us/step - loss: 0.4530 - acc: 0.7924\n",
      "Epoch 3/20\n",
      "75278/75278 [==============================] - 6s 83us/step - loss: 0.4469 - acc: 0.7969\n",
      "Epoch 4/20\n",
      "75278/75278 [==============================] - 7s 90us/step - loss: 0.4428 - acc: 0.7995\n",
      "Epoch 5/20\n",
      "75278/75278 [==============================] - 7s 91us/step - loss: 0.4409 - acc: 0.8010\n",
      "Epoch 6/20\n",
      "75278/75278 [==============================] - 7s 93us/step - loss: 0.4378 - acc: 0.8025\n",
      "Epoch 7/20\n",
      "75278/75278 [==============================] - 7s 94us/step - loss: 0.4356 - acc: 0.8046\n",
      "Epoch 8/20\n",
      "75278/75278 [==============================] - 7s 94us/step - loss: 0.4343 - acc: 0.8054\n",
      "Epoch 9/20\n",
      "75278/75278 [==============================] - 7s 89us/step - loss: 0.4314 - acc: 0.8063\n",
      "Epoch 10/20\n",
      "75278/75278 [==============================] - 7s 90us/step - loss: 0.4307 - acc: 0.8072\n",
      "Epoch 11/20\n",
      "75278/75278 [==============================] - 8s 100us/step - loss: 0.4300 - acc: 0.8087\n",
      "Epoch 12/20\n",
      "75278/75278 [==============================] - 7s 96us/step - loss: 0.4284 - acc: 0.8082\n",
      "Epoch 13/20\n",
      "75278/75278 [==============================] - 7s 95us/step - loss: 0.4274 - acc: 0.8089\n",
      "Epoch 14/20\n",
      "75278/75278 [==============================] - 7s 95us/step - loss: 0.4264 - acc: 0.8094\n",
      "Epoch 15/20\n",
      "75278/75278 [==============================] - 7s 99us/step - loss: 0.4258 - acc: 0.8107\n",
      "Epoch 16/20\n",
      "75278/75278 [==============================] - 7s 90us/step - loss: 0.4239 - acc: 0.8118\n",
      "Epoch 17/20\n",
      "75278/75278 [==============================] - 7s 94us/step - loss: 0.4233 - acc: 0.8110\n",
      "Epoch 18/20\n",
      "75278/75278 [==============================] - 7s 91us/step - loss: 0.4227 - acc: 0.8123\n",
      "Epoch 19/20\n",
      "75278/75278 [==============================] - 7s 92us/step - loss: 0.4220 - acc: 0.8116\n",
      "Epoch 20/20\n",
      "75278/75278 [==============================] - 7s 93us/step - loss: 0.4218 - acc: 0.8120\n"
     ]
    }
   ],
   "source": [
    "hist=model.fit(x,y,batch_size=32,epochs=20)"
   ]
  },
  {
   "cell_type": "code",
   "execution_count": 192,
   "metadata": {},
   "outputs": [],
   "source": [
    "pred=model.predict(x_test)"
   ]
  },
  {
   "cell_type": "code",
   "execution_count": 193,
   "metadata": {},
   "outputs": [],
   "source": [
    "df=pd.DataFrame({\"Patient_ID\":test[\"Patient_ID\"].values,\"Health_Camp_ID\":test[\"Health_Camp_ID\"].values,\"Outcome\":pred.reshape([-1])})"
   ]
  },
  {
   "cell_type": "code",
   "execution_count": 194,
   "metadata": {},
   "outputs": [],
   "source": [
    "df.to_csv(\"result.csv\",index=False)"
   ]
  },
  {
   "cell_type": "code",
   "execution_count": 177,
   "metadata": {},
   "outputs": [],
   "source": [
    "from sklearn.metrics import roc_auc_score"
   ]
  },
  {
   "cell_type": "code",
   "execution_count": 178,
   "metadata": {},
   "outputs": [
    {
     "data": {
      "text/plain": [
       "0.8609002214844366"
      ]
     },
     "execution_count": 178,
     "metadata": {},
     "output_type": "execute_result"
    }
   ],
   "source": [
    "roc_auc_score(y,model.predict(x))"
   ]
  },
  {
   "cell_type": "markdown",
   "metadata": {},
   "source": [
    "### Random Forest"
   ]
  },
  {
   "cell_type": "code",
   "execution_count": 132,
   "metadata": {},
   "outputs": [],
   "source": [
    "from sklearn.ensemble import RandomForestClassifier"
   ]
  },
  {
   "cell_type": "code",
   "execution_count": 133,
   "metadata": {},
   "outputs": [],
   "source": [
    "model2 = RandomForestClassifier()"
   ]
  },
  {
   "cell_type": "code",
   "execution_count": 134,
   "metadata": {},
   "outputs": [],
   "source": [
    "from sklearn.model_selection import GridSearchCV"
   ]
  },
  {
   "cell_type": "code",
   "execution_count": 135,
   "metadata": {},
   "outputs": [],
   "source": [
    "parameters={'n_estimators':[200,300,400,500],'criterion':['gini','entropy'],'min_samples_leaf':[5,10],'min_samples_split':[1,5,10]}"
   ]
  },
  {
   "cell_type": "code",
   "execution_count": 136,
   "metadata": {},
   "outputs": [],
   "source": [
    "grid_search = GridSearchCV(estimator=model2,\n",
    "                          param_grid=parameters,\n",
    "                          n_jobs=-1,\n",
    "                          scoring='roc_auc')"
   ]
  },
  {
   "cell_type": "code",
   "execution_count": null,
   "metadata": {},
   "outputs": [],
   "source": [
    "grid_search.fit(x,y)"
   ]
  },
  {
   "cell_type": "code",
   "execution_count": null,
   "metadata": {},
   "outputs": [],
   "source": [
    "best_accuracy=grid_search.best_score_\n",
    "best_params=grid_search.best_params_\n",
    "print(best_accuracy)\n",
    "print(best_params)"
   ]
  },
  {
   "cell_type": "code",
   "execution_count": 215,
   "metadata": {},
   "outputs": [],
   "source": [
    "model2 = RandomForestClassifier(criterion= 'entropy', \n",
    "                                min_samples_leaf=5,\n",
    "                                min_samples_split=5,\n",
    "                                n_estimators= 500)"
   ]
  },
  {
   "cell_type": "code",
   "execution_count": 216,
   "metadata": {},
   "outputs": [
    {
     "data": {
      "text/plain": [
       "RandomForestClassifier(bootstrap=True, ccp_alpha=0.0, class_weight=None,\n",
       "                       criterion='entropy', max_depth=None, max_features=40,\n",
       "                       max_leaf_nodes=None, max_samples=None,\n",
       "                       min_impurity_decrease=0.0, min_impurity_split=None,\n",
       "                       min_samples_leaf=1, min_samples_split=2,\n",
       "                       min_weight_fraction_leaf=0.0, n_estimators=400,\n",
       "                       n_jobs=None, oob_score=False, random_state=None,\n",
       "                       verbose=0, warm_start=False)"
      ]
     },
     "execution_count": 216,
     "metadata": {},
     "output_type": "execute_result"
    }
   ],
   "source": [
    "model2.fit(x,y)"
   ]
  },
  {
   "cell_type": "code",
   "execution_count": 217,
   "metadata": {},
   "outputs": [],
   "source": [
    "predict=model2.predict_proba(x_test)[:,1]"
   ]
  },
  {
   "cell_type": "code",
   "execution_count": 218,
   "metadata": {},
   "outputs": [],
   "source": [
    "df=pd.DataFrame({\"Patient_ID\":test[\"Patient_ID\"].values,\"Health_Camp_ID\":test[\"Health_Camp_ID\"].values,\"Outcome\":predict.reshape([-1])})"
   ]
  },
  {
   "cell_type": "code",
   "execution_count": 219,
   "metadata": {},
   "outputs": [],
   "source": [
    "df.to_csv(\"random_forest.csv\",index=False)"
   ]
  },
  {
   "cell_type": "code",
   "execution_count": null,
   "metadata": {},
   "outputs": [],
   "source": []
  }
 ],
 "metadata": {
  "kernelspec": {
   "display_name": "Python 3",
   "language": "python",
   "name": "python3"
  },
  "language_info": {
   "codemirror_mode": {
    "name": "ipython",
    "version": 3
   },
   "file_extension": ".py",
   "mimetype": "text/x-python",
   "name": "python",
   "nbconvert_exporter": "python",
   "pygments_lexer": "ipython3",
   "version": "3.6.8"
  }
 },
 "nbformat": 4,
 "nbformat_minor": 4
}
